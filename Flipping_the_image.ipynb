{
  "nbformat": 4,
  "nbformat_minor": 0,
  "metadata": {
    "colab": {
      "private_outputs": true,
      "provenance": [],
      "authorship_tag": "ABX9TyNBNPuz0nc9xObzpzKsLQYc",
      "include_colab_link": true
    },
    "kernelspec": {
      "name": "python3",
      "display_name": "Python 3"
    },
    "language_info": {
      "name": "python"
    }
  },
  "cells": [
    {
      "cell_type": "markdown",
      "metadata": {
        "id": "view-in-github",
        "colab_type": "text"
      },
      "source": [
        "<a href=\"https://colab.research.google.com/github/Psychoad/ECG-heartbeat-classification/blob/master/Flipping_the_image.ipynb\" target=\"_parent\"><img src=\"https://colab.research.google.com/assets/colab-badge.svg\" alt=\"Open In Colab\"/></a>"
      ]
    },
    {
      "cell_type": "markdown",
      "source": [
        "Import Statements"
      ],
      "metadata": {
        "id": "w_M__cDIlb7L"
      }
    },
    {
      "cell_type": "code",
      "execution_count": null,
      "metadata": {
        "id": "4Hy2XUzclVpt"
      },
      "outputs": [],
      "source": [
        "import cv2\n",
        "from matplotlib import pyplot as plt"
      ]
    },
    {
      "cell_type": "markdown",
      "source": [
        "Reading the Image"
      ],
      "metadata": {
        "id": "TNDk6SM5l7s4"
      }
    },
    {
      "cell_type": "code",
      "source": [
        "img = cv2.imread('/content/OpenCV_Logo_with_text.png')\n",
        "name = 'OpenCV_Logo_with_text'\n",
        "plt.title(name)\n",
        "plt.imshow(img)"
      ],
      "metadata": {
        "id": "_2kc_Y8kl4h2"
      },
      "execution_count": null,
      "outputs": []
    },
    {
      "cell_type": "markdown",
      "source": [
        "Flipping the Image Horizontally"
      ],
      "metadata": {
        "id": "2zTovxhcm1tt"
      }
    },
    {
      "cell_type": "code",
      "source": [
        "horizontal_flip = cv2.flip(img, 1)\n",
        "name= 'OpenCV Python FLip Image Horizontally'\n",
        "plt.title(name)\n",
        "plt.imshow(horizontal_flip)"
      ],
      "metadata": {
        "id": "43KwF7polgSD"
      },
      "execution_count": null,
      "outputs": []
    },
    {
      "cell_type": "markdown",
      "source": [
        "Flipping The Image Vertically"
      ],
      "metadata": {
        "id": "txCOSWiAnUfB"
      }
    },
    {
      "cell_type": "code",
      "source": [
        "vertical_flip = cv2.flip(img, 0)\n",
        "name= 'OpenCV Python FLip Image vertically'\n",
        "plt.title(name)\n",
        "plt.imshow(vertical_flip)"
      ],
      "metadata": {
        "id": "5t-bDdPsnZos"
      },
      "execution_count": null,
      "outputs": []
    },
    {
      "cell_type": "markdown",
      "source": [
        "FLipping the image Vertically and Horizontally"
      ],
      "metadata": {
        "id": "jTLKpniHnl8J"
      }
    },
    {
      "cell_type": "code",
      "source": [
        "vertical_horizontal_flip = cv2.flip(img, -1)\n",
        "name= 'OpenCV Python File Image Both Vertically and Horizontally'\n",
        "plt.title(name)\n",
        "plt.imshow(vertical_horizontal_flip)"
      ],
      "metadata": {
        "id": "S6q3l_QlnlJT"
      },
      "execution_count": null,
      "outputs": []
    }
  ]
}